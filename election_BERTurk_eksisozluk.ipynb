{
 "cells": [
  {
   "cell_type": "code",
   "execution_count": 1,
   "metadata": {},
   "outputs": [],
   "source": [
    "import pandas as pd\n",
    "import requests\n",
    "from bs4 import BeautifulSoup\n",
    "from transformers import AutoModelForSequenceClassification, AutoTokenizer, pipeline\n",
    "import matplotlib.pyplot as plt"
   ]
  },
  {
   "attachments": {},
   "cell_type": "markdown",
   "metadata": {},
   "source": [
    "# Getting the Data From Eksisozluk"
   ]
  },
  {
   "attachments": {},
   "cell_type": "markdown",
   "metadata": {},
   "source": [
    "I used https://github.com/coluck/eksisozluk-api for scraping the data from\n",
    "Eksisozluk. It's based on node.js, and it returns data in a json format."
   ]
  },
  {
   "cell_type": "code",
   "execution_count": 2,
   "metadata": {},
   "outputs": [],
   "source": [
    "def entries_to_text(entry_dataframe: pd.DataFrame) -> str:\n",
    "    \"\"\"A function to merge all of the entries in a page given by the Eksisozluk\n",
    "    API. Also handles the removal of HTML tags found in the raw results from\n",
    "    the API.\"\"\"\n",
    "    final_text = ''\n",
    "    for entry in entry_dataframe['body']:\n",
    "        soup = BeautifulSoup(entry)\n",
    "        final_text = ' '.join([final_text, soup.get_text()])\n",
    "    return final_text"
   ]
  },
  {
   "cell_type": "code",
   "execution_count": 3,
   "metadata": {},
   "outputs": [],
   "source": [
    "def scan_pages_to_str(start_page: int, end_page: int, header_link: str) -> str:\n",
    "    \"\"\"A function that uses Eksisozluk API to process all of the entries in the \n",
    "    given page range to a string.\"\"\"\n",
    "    text_out = ''\n",
    "    for i in range(start_page, end_page):\n",
    "        req = requests.get(f\"{header_link}?p={i}\")\n",
    "        entries = pd.DataFrame.from_dict(req.json()[\"entries\"])\n",
    "        text_out = ' '.join([text_out, entries_to_text(entries)])\n",
    "    return text_out       "
   ]
  },
  {
   "cell_type": "code",
   "execution_count": 4,
   "metadata": {},
   "outputs": [],
   "source": [
    "def scan_pages_to_df(start_page: int, end_page: int, header_link: str) -> pd.DataFrame:\n",
    "    \"\"\"A function that uses Eksisozluk API to process all of the entries in the \n",
    "    given page range to a Pandas Data Frame. Also handles the removal of HTML\n",
    "    tags found in the raw results from the API.\"\"\"\n",
    "    df_out = pd.DataFrame()\n",
    "    soup = BeautifulSoup()\n",
    "    for i in range(start_page, end_page):\n",
    "        req = requests.get(f\"{header_link}?p={i}\")\n",
    "        entries = pd.DataFrame(req.json()[\"entries\"])\n",
    "        df_out = pd.concat([entries, df_out])\n",
    "    df_out = df_out.reset_index(drop=True)\n",
    "    df_out[\"cleaned_body\"] = [BeautifulSoup(entry).get_text() for entry in df_out[\"body\"]]\n",
    "    return df_out"
   ]
  },
  {
   "cell_type": "code",
   "execution_count": 21,
   "metadata": {},
   "outputs": [],
   "source": [
    "def sum_sentiment(df: pd.DataFrame) -> int:\n",
    "    sentiment = 0\n",
    "    for i in range(len(df)):\n",
    "        if df[\"sentiment_data\"][i][\"label\"] == \"positive\":\n",
    "            sentiment += df[\"sentiment_data\"][i][\"score\"]\n",
    "        else:\n",
    "            sentiment -= df[\"sentiment_data\"][i][\"score\"]\n",
    "    return sentiment"
   ]
  },
  {
   "attachments": {},
   "cell_type": "markdown",
   "metadata": {},
   "source": [
    "Getting some entries about the main opposition candidate:"
   ]
  },
  {
   "cell_type": "code",
   "execution_count": 6,
   "metadata": {},
   "outputs": [
    {
     "name": "stderr",
     "output_type": "stream",
     "text": [
      "/var/folders/t3/37z1vnv119jd4057sptnmv900000gn/T/ipykernel_10191/452042521.py:12: MarkupResemblesLocatorWarning: The input looks more like a filename than markup. You may want to open this file and pass the filehandle into Beautiful Soup.\n",
      "  df_out[\"cleaned_body\"] = [BeautifulSoup(entry).get_text() for entry in df_out[\"body\"]]\n"
     ]
    }
   ],
   "source": [
    "#Page 4247 corresponds to entries written on May 1\n",
    "# Page 4404 ends the night before the election day\n",
    "kilicdar_text = scan_pages_to_df(4247, 4404, 'http://localhost:3000/api/baslik/kemal-kilicdaroglu--1267550')"
   ]
  },
  {
   "attachments": {},
   "cell_type": "markdown",
   "metadata": {},
   "source": [
    "# Fine-Tuned BERTurk Based Model"
   ]
  },
  {
   "attachments": {},
   "cell_type": "markdown",
   "metadata": {},
   "source": [
    "## Kılıçdaroğlu"
   ]
  },
  {
   "cell_type": "code",
   "execution_count": 7,
   "metadata": {},
   "outputs": [],
   "source": [
    "sent_model = AutoModelForSequenceClassification.from_pretrained(\"savasy/bert-base-turkish-sentiment-cased\")\n",
    "sent_tokenizer = AutoTokenizer.from_pretrained(\"savasy/bert-base-turkish-sentiment-cased\")\n",
    "sentiment_pipeline = pipeline(\"sentiment-analysis\", tokenizer=sent_tokenizer, model=sent_model)"
   ]
  },
  {
   "attachments": {},
   "cell_type": "markdown",
   "metadata": {},
   "source": [
    "Filtering out entries that produce more than 512 tokens."
   ]
  },
  {
   "cell_type": "code",
   "execution_count": 8,
   "metadata": {},
   "outputs": [
    {
     "data": {
      "text/plain": [
       "{'input_ids': [2, 23307, 2916, 9200, 2977, 1031, 15847, 23307, 18, 3137, 3348, 10865, 2336, 2009, 12588, 2368, 18, 3], 'token_type_ids': [0, 0, 0, 0, 0, 0, 0, 0, 0, 0, 0, 0, 0, 0, 0, 0, 0, 0], 'attention_mask': [1, 1, 1, 1, 1, 1, 1, 1, 1, 1, 1, 1, 1, 1, 1, 1, 1, 1]}"
      ]
     },
     "execution_count": 8,
     "metadata": {},
     "output_type": "execute_result"
    }
   ],
   "source": [
    "sent_tokenizer(kilicdar_text[\"cleaned_body\"][0])"
   ]
  },
  {
   "cell_type": "code",
   "execution_count": 9,
   "metadata": {},
   "outputs": [],
   "source": [
    "kilicdar_clean = kilicdar_text.copy()"
   ]
  },
  {
   "cell_type": "code",
   "execution_count": 10,
   "metadata": {},
   "outputs": [
    {
     "name": "stderr",
     "output_type": "stream",
     "text": [
      "Token indices sequence length is longer than the specified maximum sequence length for this model (3088 > 512). Running this sequence through the model will result in indexing errors\n"
     ]
    }
   ],
   "source": [
    "for i in range(len(kilicdar_clean[\"cleaned_body\"])):\n",
    "    if len(sent_tokenizer(kilicdar_clean[\"cleaned_body\"][i])[\"input_ids\"]) > 512:\n",
    "        kilicdar_clean.drop(i, inplace=True)\n",
    "kilicdar_clean = kilicdar_clean.reset_index(drop=True)"
   ]
  },
  {
   "cell_type": "code",
   "execution_count": 11,
   "metadata": {},
   "outputs": [
    {
     "data": {
      "text/plain": [
       "[{'label': 'positive', 'score': 0.9536780118942261},\n",
       " {'label': 'positive', 'score': 0.8818874955177307}]"
      ]
     },
     "execution_count": 11,
     "metadata": {},
     "output_type": "execute_result"
    }
   ],
   "source": [
    "sentiment_pipeline(list(kilicdar_clean[\"cleaned_body\"])[:2])"
   ]
  },
  {
   "cell_type": "code",
   "execution_count": 12,
   "metadata": {},
   "outputs": [
    {
     "data": {
      "text/html": [
       "<div>\n",
       "<style scoped>\n",
       "    .dataframe tbody tr th:only-of-type {\n",
       "        vertical-align: middle;\n",
       "    }\n",
       "\n",
       "    .dataframe tbody tr th {\n",
       "        vertical-align: top;\n",
       "    }\n",
       "\n",
       "    .dataframe thead th {\n",
       "        text-align: right;\n",
       "    }\n",
       "</style>\n",
       "<table border=\"1\" class=\"dataframe\">\n",
       "  <thead>\n",
       "    <tr style=\"text-align: right;\">\n",
       "      <th></th>\n",
       "      <th>id</th>\n",
       "      <th>body</th>\n",
       "      <th>author</th>\n",
       "      <th>author_id</th>\n",
       "      <th>fav_count</th>\n",
       "      <th>created_at</th>\n",
       "      <th>updated_at</th>\n",
       "      <th>cleaned_body</th>\n",
       "      <th>sentiment_data</th>\n",
       "    </tr>\n",
       "  </thead>\n",
       "  <tbody>\n",
       "    <tr>\n",
       "      <th>0</th>\n",
       "      <td>152320352</td>\n",
       "      <td>dedem cumhurbaşkanı olacaksın dedem.&lt;br&gt;millet...</td>\n",
       "      <td>lordwilmore</td>\n",
       "      <td>1656166</td>\n",
       "      <td>0</td>\n",
       "      <td>13.05.2023 22:09</td>\n",
       "      <td>None</td>\n",
       "      <td>dedem cumhurbaşkanı olacaksın dedem.millet sen...</td>\n",
       "      <td>{'label': 'positive', 'score': 0.9536780118942...</td>\n",
       "    </tr>\n",
       "    <tr>\n",
       "      <th>1</th>\n",
       "      <td>152320492</td>\n",
       "      <td>allahına kurban olduğum inşallah iyisindir ken...</td>\n",
       "      <td>khradein</td>\n",
       "      <td>1938203</td>\n",
       "      <td>0</td>\n",
       "      <td>13.05.2023 22:12</td>\n",
       "      <td>None</td>\n",
       "      <td>allahına kurban olduğum inşallah iyisindir ken...</td>\n",
       "      <td>{'label': 'positive', 'score': 0.8818874955177...</td>\n",
       "    </tr>\n",
       "    <tr>\n",
       "      <th>2</th>\n",
       "      <td>152320539</td>\n",
       "      <td>şafak doğan güneş.&lt;br&gt;edit, zifiri karanlığa u...</td>\n",
       "      <td>tekmeyiyemisadam</td>\n",
       "      <td>2143156</td>\n",
       "      <td>1</td>\n",
       "      <td>13.05.2023 22:13</td>\n",
       "      <td>18.05.2023 22:35</td>\n",
       "      <td>şafak doğan güneş.edit, zifiri karanlığa uyandık.</td>\n",
       "      <td>{'label': 'negative', 'score': 0.843242883682251}</td>\n",
       "    </tr>\n",
       "    <tr>\n",
       "      <th>3</th>\n",
       "      <td>152320750</td>\n",
       "      <td>sahnede olduğu süre içinde en baştan beri kend...</td>\n",
       "      <td>masterful tactician</td>\n",
       "      <td>57691</td>\n",
       "      <td>1</td>\n",
       "      <td>13.05.2023 22:17</td>\n",
       "      <td>None</td>\n",
       "      <td>sahnede olduğu süre içinde en baştan beri kend...</td>\n",
       "      <td>{'label': 'positive', 'score': 0.9862686991691...</td>\n",
       "    </tr>\n",
       "    <tr>\n",
       "      <th>4</th>\n",
       "      <td>152320919</td>\n",
       "      <td>bu adam inanılmaz bir şey yapıyor.&lt;br&gt;&lt;br&gt;20 y...</td>\n",
       "      <td>umth</td>\n",
       "      <td>631887</td>\n",
       "      <td>9</td>\n",
       "      <td>13.05.2023 22:20</td>\n",
       "      <td>None</td>\n",
       "      <td>bu adam inanılmaz bir şey yapıyor.20 yıldır sü...</td>\n",
       "      <td>{'label': 'positive', 'score': 0.9924404621124...</td>\n",
       "    </tr>\n",
       "  </tbody>\n",
       "</table>\n",
       "</div>"
      ],
      "text/plain": [
       "          id                                               body  \\\n",
       "0  152320352  dedem cumhurbaşkanı olacaksın dedem.<br>millet...   \n",
       "1  152320492  allahına kurban olduğum inşallah iyisindir ken...   \n",
       "2  152320539  şafak doğan güneş.<br>edit, zifiri karanlığa u...   \n",
       "3  152320750  sahnede olduğu süre içinde en baştan beri kend...   \n",
       "4  152320919  bu adam inanılmaz bir şey yapıyor.<br><br>20 y...   \n",
       "\n",
       "                author author_id fav_count        created_at  \\\n",
       "0          lordwilmore   1656166         0  13.05.2023 22:09   \n",
       "1             khradein   1938203         0  13.05.2023 22:12   \n",
       "2     tekmeyiyemisadam   2143156         1  13.05.2023 22:13   \n",
       "3  masterful tactician     57691         1  13.05.2023 22:17   \n",
       "4                 umth    631887         9  13.05.2023 22:20   \n",
       "\n",
       "         updated_at                                       cleaned_body  \\\n",
       "0              None  dedem cumhurbaşkanı olacaksın dedem.millet sen...   \n",
       "1              None  allahına kurban olduğum inşallah iyisindir ken...   \n",
       "2  18.05.2023 22:35  şafak doğan güneş.edit, zifiri karanlığa uyandık.   \n",
       "3              None  sahnede olduğu süre içinde en baştan beri kend...   \n",
       "4              None  bu adam inanılmaz bir şey yapıyor.20 yıldır sü...   \n",
       "\n",
       "                                      sentiment_data  \n",
       "0  {'label': 'positive', 'score': 0.9536780118942...  \n",
       "1  {'label': 'positive', 'score': 0.8818874955177...  \n",
       "2  {'label': 'negative', 'score': 0.843242883682251}  \n",
       "3  {'label': 'positive', 'score': 0.9862686991691...  \n",
       "4  {'label': 'positive', 'score': 0.9924404621124...  "
      ]
     },
     "execution_count": 12,
     "metadata": {},
     "output_type": "execute_result"
    }
   ],
   "source": [
    "kilicdar_clean_sentiments_small = kilicdar_clean.iloc[:5].copy()\n",
    "kilicdar_clean_sentiments_small[\"sentiment_data\"] = [sentiment_pipeline(list(kilicdar_clean_sentiments_small[\"cleaned_body\"])[i])[0] for i in range(len(kilicdar_clean_sentiments_small))]\n",
    "kilicdar_clean_sentiments_small"
   ]
  },
  {
   "cell_type": "code",
   "execution_count": 13,
   "metadata": {},
   "outputs": [
    {
     "data": {
      "text/plain": [
       "{'label': 'positive', 'score': 0.9536780118942261}"
      ]
     },
     "execution_count": 13,
     "metadata": {},
     "output_type": "execute_result"
    }
   ],
   "source": [
    "kilicdar_clean_sentiments_small[\"sentiment_data\"][0]"
   ]
  },
  {
   "cell_type": "code",
   "execution_count": 14,
   "metadata": {},
   "outputs": [],
   "source": [
    "kilicdar_clean_sentiments = kilicdar_clean.copy()\n",
    "kilicdar_clean_sentiments[\"sentiment_data\"] = [sentiment_pipeline(list(kilicdar_clean_sentiments[\"cleaned_body\"])[i])[0] for i in range(len(kilicdar_clean_sentiments))]"
   ]
  },
  {
   "cell_type": "code",
   "execution_count": 24,
   "metadata": {},
   "outputs": [
    {
     "data": {
      "text/plain": [
       "-0.03723159125593842"
      ]
     },
     "execution_count": 24,
     "metadata": {},
     "output_type": "execute_result"
    }
   ],
   "source": [
    "sum_sentiment(kilicdar_clean_sentiments) / len(kilicdar_clean_sentiments)"
   ]
  },
  {
   "attachments": {},
   "cell_type": "markdown",
   "metadata": {},
   "source": [
    "## Tayyip"
   ]
  },
  {
   "cell_type": "code",
   "execution_count": 16,
   "metadata": {},
   "outputs": [
    {
     "name": "stderr",
     "output_type": "stream",
     "text": [
      "/var/folders/t3/37z1vnv119jd4057sptnmv900000gn/T/ipykernel_10191/452042521.py:12: MarkupResemblesLocatorWarning: The input looks more like a filename than markup. You may want to open this file and pass the filehandle into Beautiful Soup.\n",
      "  df_out[\"cleaned_body\"] = [BeautifulSoup(entry).get_text() for entry in df_out[\"body\"]]\n"
     ]
    }
   ],
   "source": [
    "#Page 6917 corresponds to entries written on May 1\n",
    "# Page 7026 ends the night before the election day\n",
    "tayyip_text = scan_pages_to_df(6917, 7026, 'http://localhost:3000/api/baslik/recep-tayyip-erdogan--95281')"
   ]
  },
  {
   "cell_type": "code",
   "execution_count": 17,
   "metadata": {},
   "outputs": [],
   "source": [
    "tayyip_clean = tayyip_text.copy()"
   ]
  },
  {
   "cell_type": "code",
   "execution_count": 18,
   "metadata": {},
   "outputs": [],
   "source": [
    "for i in range(len(tayyip_clean[\"cleaned_body\"])):\n",
    "    if len(sent_tokenizer(tayyip_clean[\"cleaned_body\"][i])[\"input_ids\"]) > 512:\n",
    "        tayyip_clean.drop(i, inplace=True)\n",
    "tayyip_clean = tayyip_clean.reset_index(drop=True)"
   ]
  },
  {
   "cell_type": "code",
   "execution_count": 19,
   "metadata": {},
   "outputs": [],
   "source": [
    "tayyip_clean_sentiments = tayyip_clean.copy()\n",
    "tayyip_clean_sentiments[\"sentiment_data\"] = [sentiment_pipeline(list(tayyip_clean_sentiments[\"cleaned_body\"])[i])[0] for i in range(len(tayyip_clean_sentiments))]"
   ]
  },
  {
   "cell_type": "code",
   "execution_count": 26,
   "metadata": {},
   "outputs": [
    {
     "data": {
      "text/plain": [
       "-0.2999883693328408"
      ]
     },
     "execution_count": 26,
     "metadata": {},
     "output_type": "execute_result"
    }
   ],
   "source": [
    "sum_sentiment(tayyip_clean_sentiments) / len(tayyip_clean_sentiments)"
   ]
  },
  {
   "attachments": {},
   "cell_type": "markdown",
   "metadata": {},
   "source": [
    "# Word Clouds"
   ]
  },
  {
   "attachments": {},
   "cell_type": "markdown",
   "metadata": {},
   "source": [
    "## Tayyip"
   ]
  }
 ],
 "metadata": {
  "kernelspec": {
   "display_name": "turkey-election",
   "language": "python",
   "name": "python3"
  },
  "language_info": {
   "codemirror_mode": {
    "name": "ipython",
    "version": 3
   },
   "file_extension": ".py",
   "mimetype": "text/x-python",
   "name": "python",
   "nbconvert_exporter": "python",
   "pygments_lexer": "ipython3",
   "version": "3.10.12"
  },
  "orig_nbformat": 4
 },
 "nbformat": 4,
 "nbformat_minor": 2
}
